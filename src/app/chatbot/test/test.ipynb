{
 "cells": [
  {
   "cell_type": "code",
   "execution_count": 1,
   "metadata": {},
   "outputs": [],
   "source": [
    "import sys\n",
    "import os\n",
    "sys.path.append(os.path.abspath(os.path.join('../../', 'chatbot')))"
   ]
  },
  {
   "cell_type": "code",
   "execution_count": 2,
   "metadata": {},
   "outputs": [],
   "source": [
    "from dotenv import load_dotenv, find_dotenv\n",
    "from langchain_community.graphs import Neo4jGraph\n",
    "\n",
    "load_dotenv(find_dotenv())\n",
    "db = Neo4jGraph()"
   ]
  },
  {
   "cell_type": "code",
   "execution_count": 3,
   "metadata": {},
   "outputs": [
    {
     "name": "stderr",
     "output_type": "stream",
     "text": [
      "Received notification from DBMS server: {severity: WARNING} {code: Neo.ClientNotification.Statement.FeatureDeprecationWarning} {category: DEPRECATION} {title: This feature is deprecated and will be removed in future versions.} {description: CALL subquery without a variable scope clause is now deprecated. Use CALL (row) { ... }} {position: line: 1, column: 21, offset: 20} for query: \"UNWIND $data AS row CALL { WITH row MERGE (c:`Chunk` {id: row.id}) WITH c, row CALL db.create.setNodeVectorProperty(c, 'embedding', row.embedding) SET c.`text` = row.text SET c += row.metadata } IN TRANSACTIONS OF 1000 ROWS \"\n"
     ]
    }
   ],
   "source": [
    "from langchain_openai import ChatOpenAI\n",
    "from graph import calculate_risk_coefficients, car_analysis, go_to_searcher\n",
    "from guardian import Guardian,  PictureAnalyzer\n",
    "from query_generator import create_query_generator\n",
    "from langgraph.prebuilt import ToolNode\n",
    "\n",
    "llm = ChatOpenAI(\n",
    "    model=\"gpt-4o\",\n",
    "    temperature=0\n",
    ")\n",
    "picture_analysis = PictureAnalyzer(llm).create_picture_analyzer()\n",
    "query_gen = create_query_generator(llm, db)"
   ]
  },
  {
   "cell_type": "code",
   "execution_count": 4,
   "metadata": {},
   "outputs": [],
   "source": [
    "guardian = Guardian(llm, [go_to_searcher])\n",
    "llm_with_guardian = guardian.create_guardian()\n",
    "search_node = ToolNode([go_to_searcher])"
   ]
  },
  {
   "cell_type": "code",
   "execution_count": 5,
   "metadata": {},
   "outputs": [],
   "source": [
    "tool_node = ToolNode([calculate_risk_coefficients, car_analysis])"
   ]
  },
  {
   "cell_type": "code",
   "execution_count": 6,
   "metadata": {},
   "outputs": [],
   "source": [
    "from caller import Caller\n",
    "\n",
    "mini_llm = ChatOpenAI(\n",
    "    model=\"gpt-4o-mini\",\n",
    "    temperature=0\n",
    ")\n",
    "\n",
    "caller = Caller(mini_llm, [calculate_risk_coefficients, car_analysis]).create_caller()\n",
    "\n",
    "app_tools = {\n",
    "    'db': db,\n",
    "    'caller': caller,\n",
    "    'guardian': llm_with_guardian,\n",
    "    'cypher': query_gen,\n",
    "    'picture': picture_analysis,\n",
    "}"
   ]
  },
  {
   "cell_type": "code",
   "execution_count": 7,
   "metadata": {},
   "outputs": [],
   "source": [
    "from graph import State, compile_graph\n",
    "from langgraph.checkpoint.memory import MemorySaver\n",
    "from langgraph.graph import END, START, StateGraph\n",
    "\n",
    "graph = StateGraph(State)\n",
    "memory = MemorySaver()\n",
    "\n",
    "app = compile_graph(graph, memory, search_node, tool_node)"
   ]
  },
  {
   "cell_type": "code",
   "execution_count": 8,
   "metadata": {},
   "outputs": [
    {
     "data": {
      "image/jpeg": "[encoded data removed]",
      "text/plain": [
       "<IPython.core.display.Image object>"
      ]
     },
     "metadata": {},
     "output_type": "display_data"
    }
   ],
   "source": [
    "from IPython.display import Image, display\n",
    "\n",
    "try:\n",
    "    display(Image(app.get_graph().draw_mermaid_png()))\n",
    "except Exception:\n",
    "    # This requires some extra dependencies and is optional\n",
    "    pass\n",
    "\n",
    "config = {\"configurable\": {\"thread_id\": \"1\"}, \"recursion_limit\": 15}\n",
    "config['configurable'].update(app_tools)"
   ]
  },
  {
   "cell_type": "code",
   "execution_count": 11,
   "metadata": {},
   "outputs": [
    {
     "name": "stdout",
     "output_type": "stream",
     "text": [
      "================================\u001b[1m Human Message \u001b[0m=================================\n",
      "\n",
      "Parlami della moglie di Pio Tarquinio\n",
      "================================\u001b[1m Human Message \u001b[0m=================================\n",
      "\n",
      "Parlami della moglie di Pio Tarquinio\n",
      "==================================\u001b[1m Ai Message \u001b[0m==================================\n",
      "Tool Calls:\n",
      "  go_to_searcher (call_ipVMqGa9kOfUVLf36u0vn8SI)\n",
      " Call ID: call_ipVMqGa9kOfUVLf36u0vn8SI\n",
      "  Args:\n",
      "    state: {'messages': [{'content': 'Parlami della moglie di Pio Tarquinio', 'type': 'human'}], 'data': None, 'is_picture': None}\n",
      "=================================\u001b[1m Tool Message \u001b[0m=================================\n",
      "Name: go_to_searcher\n",
      "\n",
      "search\n",
      "\u001b[1;34mSearcher query\u001b[0m: MATCH (p:Person {name: 'Pio', last_name: 'Tarquinio'})-[:PARTNER_OF]->(w:Person) RETURN w\n",
      "==================================\u001b[1m Ai Message \u001b[0m==================================\n",
      "\n",
      "[{'w': {'cf': 'TCECRL95T18H501W', 'birthdate': '1995-12-18', 'gender': 'F', 'birthplace': 'ROMA', 'name': 'Carla', 'last_name': 'Teci', 'residence': 'BERGAMO'}}]\n",
      "==================================\u001b[1m Ai Message \u001b[0m==================================\n",
      "Tool Calls:\n",
      "  calculate_risk_coefficients (call_sR2AM7kLDFlNekYJJfbUJSCl)\n",
      " Call ID: call_sR2AM7kLDFlNekYJJfbUJSCl\n",
      "  Args:\n",
      "    state: {'messages': [{'content': 'Calcola il coefficiente di rischio per Carla Teci, nata a Roma il 18 dicembre 1995 e residente a Bergamo.', 'type': 'human'}], 'data': None, 'is_picture': None}\n",
      "    cf: TCECRL95T18H501W\n"
     ]
    },
    {
     "name": "stderr",
     "output_type": "stream",
     "text": [
      "Received notification from DBMS server: {severity: WARNING} {code: Neo.ClientNotification.Statement.AggregationSkippedNull} {category: UNRECOGNIZED} {title: The query contains an aggregation function that skips null values.} {description: null value eliminated in set function.} {position: None} for query: \"\\n    MATCH (p:Person {cf: 'TCECRL95T18H501W'})\\n    OPTIONAL MATCH (p)-[:HAS_COMMITTED]->(c:Crime)\\n    OPTIONAL MATCH (p)-[:PARTNER_OF]->(p1:Person)-[:HAS_COMMITTED]->(c1:Crime)\\n    OPTIONAL MATCH (p)-[:CHILD_OF]->(p2:Person)-[:HAS_COMMITTED]->(c2:Crime)\\n    OPTIONAL MATCH (p)<-[:CHILD_OF]-(p3:Person)-[:HAS_COMMITTED]->(c3:Crime)\\n    OPTIONAL MATCH (p)-[:WORK_AT]->(w:Workplace)<-[:WORK_AT]-(p4:Person)-[:HAS_COMMITTED]->(c4:Crime)\\n    OPTIONAL MATCH (p)-[:CHILD_OF]->(p2:Person)<-[:CHILD_OF]-(sibling:Person)-[:HAS_COMMITTED]->(c5:Crime)\\n    RETURN \\n        COALESCE(SUM(DISTINCT c.severity_score), 0) AS score_reati_diretti, \\n        COALESCE(SUM(DISTINCT c1.severity_score), 0) AS score_reati_partner,\\n        COALESCE(SUM(DISTINCT c2.severity_score), 0) AS score_reati_genitori, \\n        COALESCE(SUM(DISTINCT c3.severity_score), 0) AS score_reati_figli,\\n        COALESCE(SUM(DISTINCT c4.severity_score), 0) AS score_reati_colleghi,\\n        COALESCE(SUM(DISTINCT c5.severity_score), 0) AS score_reati_fratelli\\n    \"\n"
     ]
    },
    {
     "name": "stdout",
     "output_type": "stream",
     "text": [
      "=================================\u001b[1m Tool Message \u001b[0m=================================\n",
      "Name: calculate_risk_coefficients\n",
      "\n",
      "{\"score_reati_diretti\": 0, \"score_reati_partner\": 0, \"score_reati_genitori\": 0, \"score_reati_figli\": 0, \"score_reati_colleghi\": 1020, \"score_reati_fratelli\": 0, \"score_ponderato\": 51.0}\n",
      "==================================\u001b[1m Ai Message \u001b[0m==================================\n",
      "\n",
      "Ecco le informazioni disponibili su Carla Teci, moglie di Pio Tarquinio:\n",
      "\n",
      "| Campo         | Dettaglio          |\n",
      "|---------------|--------------------|\n",
      "| Codice Fiscale| TCECRL95T18H501W   |\n",
      "| Data di Nascita| 18 dicembre 1995   |\n",
      "| Genere        | Femminile          |\n",
      "| Luogo di Nascita| Roma             |\n",
      "| Nome          | Carla              |\n",
      "| Cognome       | Teci               |\n",
      "| Residenza     | Bergamo            |\n",
      "\n",
      "**Report:**\n",
      "Carla Teci è nata a Roma il 18 dicembre 1995 e attualmente risiede a Bergamo.\n",
      "\n",
      "**Coefficiente di Rischio di Carla Teci:**\n",
      "\n",
      "| Categoria                | Punteggio |\n",
      "|--------------------------|-----------|\n",
      "| Reati Diretti            | 0         |\n",
      "| Reati Partner            | 0         |\n",
      "| Reati Genitori           | 0         |\n",
      "| Reati Figli              | 0         |\n",
      "| Reati Colleghi           | 1020      |\n",
      "| Reati Fratelli           | 0         |\n",
      "| Punteggio Ponderato      | 51.0      |\n",
      "\n",
      "**Report Coefficiente di Rischio:**\n",
      "Il coefficiente di rischio ponderato di Carla Teci è 51.0, con un punteggio significativo associato ai reati dei colleghi. Non ci sono punteggi rilevanti in altre categorie.\n"
     ]
    }
   ],
   "source": [
    "user_input = \"Parlami della moglie di Pio Tarquinio\"\n",
    "\n",
    "events = app.astream(\n",
    "    {\"messages\": (\"user\", user_input), \"is_picture\": False}, config=config, stream_mode=\"values\",\n",
    ")\n",
    "async for event in events:\n",
    "    event[\"messages\"][-1].pretty_print()\n",
    "    final_message = event"
   ]
  },
  {
   "cell_type": "code",
   "execution_count": 10,
   "metadata": {},
   "outputs": [],
   "source": [
    "image_url = \"https://immagini.alvolante.it/sites/default/files/styles/anteprima_640/public/dasapere_galleria/2024/07/targa-italiana-987.jpg\"\n",
    "import httpx\n",
    "import base64\n",
    "image_data = base64.b64encode(httpx.get(image_url).content).decode(\"utf-8\")\n",
    "image = f\"{image_data}\""
   ]
  },
  {
   "cell_type": "code",
   "execution_count": null,
   "metadata": {},
   "outputs": [],
   "source": [
    "events = app.astream(\n",
    "    {\"messages\": (\"user\", image), \"is_picture\": True}, config=config, stream_mode=\"values\",\n",
    ")\n",
    "async for event in events:\n",
    "    event[\"messages\"][-1].pretty_print()\n",
    "    final_message = event"
   ]
  },
  {
   "cell_type": "code",
   "execution_count": null,
   "metadata": {},
   "outputs": [],
   "source": [
    "print(final_message[\"messages\"][-1].content)"
   ]
  },
  {
   "cell_type": "code",
   "execution_count": null,
   "metadata": {},
   "outputs": [],
   "source": [
    "snapshot = app.get_state(config).values\n",
    "from pprint import pprint\n",
    "pprint(snapshot)"
   ]
  }
 ],
 "metadata": {
  "kernelspec": {
   "display_name": "base",
   "language": "python",
   "name": "python3"
  },
  "language_info": {
   "codemirror_mode": {
    "name": "ipython",
    "version": 3
   },
   "file_extension": ".py",
   "mimetype": "text/x-python",
   "name": "python",
   "nbconvert_exporter": "python",
   "pygments_lexer": "ipython3",
   "version": "3.11.7"
  }
 },
 "nbformat": 4,
 "nbformat_minor": 2
}
